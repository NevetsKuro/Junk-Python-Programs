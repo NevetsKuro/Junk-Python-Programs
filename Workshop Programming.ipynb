{
 "cells": [
  {
   "cell_type": "markdown",
   "metadata": {},
   "source": [
    "# Python "
   ]
  },
  {
   "cell_type": "code",
   "execution_count": 8,
   "metadata": {},
   "outputs": [
    {
     "data": {
      "text/plain": [
       "0.26"
      ]
     },
     "execution_count": 8,
     "metadata": {},
     "output_type": "execute_result"
    }
   ],
   "source": [
    "# get minimum cost\n",
    "def getMinimumCost(pricePerMin, timeTaken):\n",
    "    newArr = []\n",
    "    for x in range(len(pricePerMin)):\n",
    "        newArr.append(pricePerMin[x]/timeTaken[x])\n",
    "    return min(newArr)\n",
    "\n",
    "getMinimumCost([35,37,39],[100,125,150])"
   ]
  },
  {
   "cell_type": "code",
   "execution_count": 18,
   "metadata": {},
   "outputs": [],
   "source": [
    "# swap variables\n",
    "def swapVars(x, y):\n",
    "    return y, x\n",
    "x, y = 16, 22\n",
    "x, y = swapVars(x, y"
   ]
  },
  {
   "cell_type": "code",
   "execution_count": 27,
   "metadata": {},
   "outputs": [
    {
     "data": {
      "text/plain": [
       "26.46"
      ]
     },
     "execution_count": 27,
     "metadata": {},
     "output_type": "execute_result"
    }
   ],
   "source": [
    "# Convert from kilgrams to pounds (.23)\n",
    "def convertKP(x):\n",
    "    return round(x * 2.2046,2)\n",
    "convertKP(12)"
   ]
  },
  {
   "cell_type": "code",
   "execution_count": 29,
   "metadata": {},
   "outputs": [
    {
     "data": {
      "text/plain": [
       "12.0"
      ]
     },
     "execution_count": 29,
     "metadata": {},
     "output_type": "execute_result"
    }
   ],
   "source": [
    "# Convert from pounds to kilgrams (.23)\n",
    "def convertPK(x):\n",
    "    return round(x/2.2046,2)\n",
    "convertPK(26.46)"
   ]
  },
  {
   "cell_type": "markdown",
   "metadata": {},
   "source": [
    "Task1:\n",
    "Write a Python program to display all the prime numbers within a range (0-100)\n"
   ]
  },
  {
   "cell_type": "code",
   "execution_count": 9,
   "metadata": {},
   "outputs": [
    {
     "name": "stdout",
     "output_type": "stream",
     "text": [
      "1, 2, 3, 5, 7, 11, 13, 17, 19, 23, 29, 31, 37, 41, 43, 47, 53, 59, 61, 67, 71, 73, 79, 83, 89, 97, "
     ]
    }
   ],
   "source": [
    "def isPrime(num):\n",
    "    for x in range(2,int((num/2)+1)):\n",
    "        if(num%x==0):\n",
    "            return False\n",
    "    return True\n",
    "\n",
    "for x in range(1,101):\n",
    "    if(isPrime(x)):\n",
    "        print(x,end=', ')"
   ]
  },
  {
   "cell_type": "markdown",
   "metadata": {},
   "source": [
    "Task 2:\n",
    "Write a Python program to check whether user entered number is an Armstrong No."
   ]
  },
  {
   "cell_type": "code",
   "execution_count": 48,
   "metadata": {},
   "outputs": [
    {
     "name": "stdout",
     "output_type": "stream",
     "text": [
      "Is a armstrong number\n",
      "1634\n",
      "True\n",
      "1635\n"
     ]
    },
    {
     "data": {
      "text/plain": [
       "False"
      ]
     },
     "execution_count": 48,
     "metadata": {},
     "output_type": "execute_result"
    }
   ],
   "source": [
    "def isArmStrong(num):\n",
    "    st = str(num)\n",
    "    tot = 0\n",
    "    len1 = len(st)\n",
    "    for x in st:\n",
    "        tot += int(x)**len1\n",
    "    if(num == tot):\n",
    "        return True\n",
    "    return False\n",
    "\n",
    "print('Is a armstrong number')\n",
    "x = int(input())\n",
    "print(isArmStrong(x))\n",
    "x = int(input())\n",
    "isArmStrong(x)"
   ]
  },
  {
   "cell_type": "code",
   "execution_count": 42,
   "metadata": {},
   "outputs": [
    {
     "name": "stdout",
     "output_type": "stream",
     "text": [
      "True\n"
     ]
    }
   ],
   "source": [
    "tot=0; st='1634'\n",
    "for x in st:\n",
    "    tot += int(x)**4\n",
    "print(tot == int(st))"
   ]
  },
  {
   "cell_type": "markdown",
   "metadata": {},
   "source": [
    "Task 3:\n",
    "Write a Python program to check the validity of password input by users. \n",
    "Validation:\n",
    "1.\tAt least 1 letter between [a-z] and 1 letter between [A-Z].\n",
    "2.\tAt least 1 number between [0-9].\n",
    "3.\tAt least 1 character from [$#@].\n",
    "4.\tMinimum length 6 characters.\n",
    "5.\tMaximum length 16 characters."
   ]
  },
  {
   "cell_type": "code",
   "execution_count": 80,
   "metadata": {},
   "outputs": [
    {
     "name": "stdout",
     "output_type": "stream",
     "text": [
      "Is password valid!\n",
      "Jack@1990\n",
      "True\n",
      "Jack1990\n",
      "False\n"
     ]
    }
   ],
   "source": [
    "def checkValidity(pwd):\n",
    "    v1=v2=v3=v4=v5=False\n",
    "    for x in pwd:\n",
    "        if(x.isupper() and not(v1)):\n",
    "            v1 = True\n",
    "        if(x.islower() and not(v2)):\n",
    "            v2 = True\n",
    "        if(x in ['@','!','#','$','%','^','&','*']):\n",
    "            v3 = True\n",
    "    if(len(pwd)>5 and len(pwd)<17):\n",
    "        v4 = v5 = True\n",
    "#     return v1,v2,v3,v4,v5\n",
    "    return (v1 and v2 and v3 and v4 and v5)\n",
    "\n",
    "print('Is password valid!')\n",
    "pwd = input()\n",
    "print(checkValidity(pwd))\n",
    "pwd = input()\n",
    "print(checkValidity(pwd))\n"
   ]
  },
  {
   "cell_type": "markdown",
   "metadata": {},
   "source": [
    "Task 4: \n",
    "Write a program, using a for loop, print out the decimal equivalents of 1/2,1/3,1/4,…1/10"
   ]
  },
  {
   "cell_type": "code",
   "execution_count": 87,
   "metadata": {},
   "outputs": [
    {
     "name": "stdout",
     "output_type": "stream",
     "text": [
      "1.0, 0.5, 0.3333333333333333, 0.25, 0.2, 0.16666666666666666, 0.14285714285714285, 0.125, 0.1111111111111111, 0.1, "
     ]
    }
   ],
   "source": [
    "for x in range(1,11):\n",
    "    print((1/x) ,end=', ')"
   ]
  },
  {
   "cell_type": "markdown",
   "metadata": {},
   "source": [
    "Task 5: \n",
    "Accept a string as an input from the user. Check if the accepted string is palindrome or not. If the string is palindrome, print \"String is palindrome\", otherwise print \"String is not palindrome\" Also print the actual and the reversed strings.\n",
    "Note – Ignore the case of characters."
   ]
  },
  {
   "cell_type": "code",
   "execution_count": 92,
   "metadata": {},
   "outputs": [
    {
     "name": "stdout",
     "output_type": "stream",
     "text": [
      "divid\n",
      "String is palindrome\n",
      "divide\n",
      "String is not palindrome\n"
     ]
    }
   ],
   "source": [
    "def isPalindrome(pal):\n",
    "    if(pal.lower() == pal.lower()[::-1]):\n",
    "        return \"String is palindrome\"\n",
    "    return \"String is not palindrome\"\n",
    "\n",
    "x = input()\n",
    "print(isPalindrome(x))\n",
    "y = input()\n",
    "print(isPalindrome(y))"
   ]
  },
  {
   "cell_type": "markdown",
   "metadata": {},
   "source": [
    "\n",
    "Task 6:\n",
    "Accept two strings 'string1' and 'string2' as an input from the user. Generate a resultant string, such that it is a concatenated string of all upper case alphabets from both the strings in the order they appear. Print the actual and the resultant strings.\n",
    "Note: Each character should be checked if it is a upper case alphabet and then it should be concatenated to the resultant string.\n",
    "Sample Input: string1: Steve likes C\n",
    "                          string2: Mary Likes Python\n",
    "Output: SCMLP\n"
   ]
  },
  {
   "cell_type": "code",
   "execution_count": 105,
   "metadata": {},
   "outputs": [
    {
     "name": "stdout",
     "output_type": "stream",
     "text": [
      "Stay\n",
      "Home\n",
      "Stay Home\n",
      "SH\n"
     ]
    }
   ],
   "source": [
    "string1 = input();string2 = input()\n",
    "print(string1,string2)\n",
    "res = ''\n",
    "for x in string1:\n",
    "    if(x.isupper()):\n",
    "        res += x\n",
    "for x in string2:\n",
    "    if(x.isupper()):\n",
    "        res += x\n",
    "print(res)"
   ]
  },
  {
   "cell_type": "markdown",
   "metadata": {},
   "source": [
    "Task 7:\n",
    "Given a string containing both upper and lower case alphabets. Write a Python program to count the number of occurrences of each alphabet (case insensitive) and display the same.\n",
    "Sample Input: ABaBCbGc\n",
    "Sample Output:2A 3B 2C 1G\n"
   ]
  },
  {
   "cell_type": "code",
   "execution_count": 124,
   "metadata": {},
   "outputs": [
    {
     "name": "stdout",
     "output_type": "stream",
     "text": [
      "A 2\n",
      "B 3\n",
      "C 2\n",
      "G 1\n"
     ]
    }
   ],
   "source": [
    "myArr = [[],[]]\n",
    "myArr[1] = [0] * len('ABaBCbGc')\n",
    "for x in 'ABaBCbGc':\n",
    "    if(not(x.upper() in myArr[0])):\n",
    "        myArr[0].append(x.upper())\n",
    "        myArr[1][myArr[0].index(x.upper())] += 1\n",
    "    else:\n",
    "        myArr[1][myArr[0].index(x.upper())] += 1\n",
    "        \n",
    "for x in range(len(myArr[0])):\n",
    "    print(myArr[0][x],myArr[1][x])"
   ]
  },
  {
   "cell_type": "markdown",
   "metadata": {},
   "source": [
    "Task 8:\n",
    "The Retail Store sells diﬀerent varieties of cloth fabric to the customers. The list of fabric available with its respective cost is given below:\n",
    "Cotton -1000 (per meter)\n",
    "Silk -2000 (per meter)\n",
    "Linen-5000 (per meter)\n",
    "Rayon – 1500 ( per meter)\n",
    "\n",
    "The fabric and its corresponding cost should be stored as a list. A customer can order any fabric in any quantity (the name and quantity of the fabric will be provided). If the required fabric is available in the fabric list (given above) and quantity to be purchased is greater than zero, then bill amount should be calculated. In case of invalid values for fabric required by the customer and quantity to be purchased, display appropriate error message and consider bill amount to be 0. Initialize required fabric and quantity with diﬀerent values and test the results. Write a Python program to calculate and display the bill amount to be paid by the customer based on the fabric bought and quantity purchased.\n",
    "Hint – Create two diﬀerent lists for fabric and Cost. Indices of two lists should be matched to retrieve the cost of a particular fabric. "
   ]
  },
  {
   "cell_type": "code",
   "execution_count": 63,
   "metadata": {},
   "outputs": [
    {
     "name": "stdout",
     "output_type": "stream",
     "text": [
      "Fabric bill 25000\n"
     ]
    }
   ],
   "source": [
    "def buyFabric(li,fab,meters):\n",
    "    bill = 0\n",
    "    fab1 = filter(lambda x: x['name'] == fab,li)\n",
    "    bill =  list(fab1)[0]['cost_pm'] * meters\n",
    "    return bill\n",
    "\n",
    "fab_list = [\n",
    "    {'name':'Cotton','cost_pm':1000},\n",
    "    {'name':'Silkn','cost_pm':2000},\n",
    "    {'name':'Linen','cost_pm':5000},\n",
    "    {'name':'Raayon','cost_pm':1500}\n",
    "]\n",
    "\n",
    "\n",
    "print(\"Fabric bill\",buyFabric(fab_list,'Linen',5))"
   ]
  },
  {
   "cell_type": "code",
   "execution_count": 57,
   "metadata": {},
   "outputs": [],
   "source": [
    "fab = filter(lambda x: x['name'] == 'Cotton',fab_list)"
   ]
  },
  {
   "cell_type": "code",
   "execution_count": 58,
   "metadata": {},
   "outputs": [
    {
     "data": {
      "text/plain": [
       "'Cotton'"
      ]
     },
     "execution_count": 58,
     "metadata": {},
     "output_type": "execute_result"
    }
   ],
   "source": [
    "list(fab)[0]['name']"
   ]
  },
  {
   "cell_type": "markdown",
   "metadata": {},
   "source": [
    "### Session"
   ]
  },
  {
   "cell_type": "code",
   "execution_count": 6,
   "metadata": {},
   "outputs": [
    {
     "name": "stdout",
     "output_type": "stream",
     "text": [
      "2450\n"
     ]
    }
   ],
   "source": [
    "#print even using lambda and filter return their sum\n",
    "print(sum(list(filter(lambda x:x%2==0,range(100)))))"
   ]
  },
  {
   "cell_type": "code",
   "execution_count": 3,
   "metadata": {},
   "outputs": [
    {
     "name": "stdout",
     "output_type": "stream",
     "text": [
      "['YASH AK', 'TUSHAR', 'DIVISHT', 'NEVETS']\n"
     ]
    }
   ],
   "source": [
    "names = ['yAsh Ak', 'tUsHar', 'DiVisHt', 'NeveTS']\n",
    "upper = lambda x: x.upper()\n",
    "print(list(map(upper,names)))"
   ]
  },
  {
   "cell_type": "code",
   "execution_count": 11,
   "metadata": {},
   "outputs": [
    {
     "data": {
      "text/plain": [
       "[0,\n",
       " 2,\n",
       " 4,\n",
       " 6,\n",
       " 8,\n",
       " 10,\n",
       " 12,\n",
       " 14,\n",
       " 16,\n",
       " 18,\n",
       " 20,\n",
       " 22,\n",
       " 24,\n",
       " 26,\n",
       " 28,\n",
       " 30,\n",
       " 32,\n",
       " 34,\n",
       " 36,\n",
       " 38,\n",
       " 40,\n",
       " 42,\n",
       " 44,\n",
       " 46,\n",
       " 48,\n",
       " 50,\n",
       " 52,\n",
       " 54,\n",
       " 56,\n",
       " 58,\n",
       " 60,\n",
       " 62,\n",
       " 64,\n",
       " 66,\n",
       " 68,\n",
       " 70,\n",
       " 72,\n",
       " 74,\n",
       " 76,\n",
       " 78,\n",
       " 80,\n",
       " 82,\n",
       " 84,\n",
       " 86,\n",
       " 88,\n",
       " 90,\n",
       " 92,\n",
       " 94,\n",
       " 96,\n",
       " 98]"
      ]
     },
     "execution_count": 11,
     "metadata": {},
     "output_type": "execute_result"
    }
   ],
   "source": [
    "[i for i in range(100) if not i%2]"
   ]
  },
  {
   "cell_type": "code",
   "execution_count": null,
   "metadata": {},
   "outputs": [],
   "source": []
  }
 ],
 "metadata": {
  "kernelspec": {
   "display_name": "Python 3",
   "language": "python",
   "name": "python3"
  },
  "language_info": {
   "codemirror_mode": {
    "name": "ipython",
    "version": 3
   },
   "file_extension": ".py",
   "mimetype": "text/x-python",
   "name": "python",
   "nbconvert_exporter": "python",
   "pygments_lexer": "ipython3",
   "version": "3.7.3"
  }
 },
 "nbformat": 4,
 "nbformat_minor": 4
}
