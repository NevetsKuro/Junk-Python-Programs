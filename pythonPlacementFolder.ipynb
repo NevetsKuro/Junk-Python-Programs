{
 "cells": [
  {
   "cell_type": "code",
   "execution_count": 9,
   "metadata": {},
   "outputs": [
    {
     "name": "stdout",
     "output_type": "stream",
     "text": [
      "johnDoe1\n"
     ]
    }
   ],
   "source": [
    "#longest string length\n",
    "lst = ['johnDoe1','janeDoe']\n",
    "\n",
    "max = 0\n",
    "for i in range(len(lst)):\n",
    "    if(len(lst[i])>max):\n",
    "        max = len(lst[i])\n",
    "        maxStr = lst[i]\n",
    "print(maxStr)"
   ]
  },
  {
   "cell_type": "code",
   "execution_count": 4,
   "metadata": {},
   "outputs": [
    {
     "name": "stdout",
     "output_type": "stream",
     "text": [
      "1\n",
      "1\n",
      "2\n",
      "3\n",
      "5\n",
      "8\n",
      "13\n",
      "21\n",
      "34\n",
      "55\n",
      "89\n"
     ]
    }
   ],
   "source": [
    "#write a sums of cur and previous without using function #\n",
    "cur = 1\n",
    "nxt = 1\n",
    "print(cur)\n",
    "print(nxt)\n",
    "for i in range(1,10):\n",
    "    sum = cur + nxt\n",
    "    print(sum)\n",
    "    cur = nxt\n",
    "    nxt = sum\n"
   ]
  },
  {
   "cell_type": "code",
   "execution_count": 6,
   "metadata": {},
   "outputs": [
    {
     "data": {
      "text/plain": [
       "120"
      ]
     },
     "execution_count": 6,
     "metadata": {},
     "output_type": "execute_result"
    }
   ],
   "source": [
    "#write a factorial using function\n",
    "def fact(x):\n",
    "    if x==1:\n",
    "        return x\n",
    "    else:\n",
    "        return x * fact(x-1)\n",
    "fact(5)"
   ]
  },
  {
   "cell_type": "code",
   "execution_count": 16,
   "metadata": {},
   "outputs": [
    {
     "data": {
      "text/plain": [
       "13"
      ]
     },
     "execution_count": 16,
     "metadata": {},
     "output_type": "execute_result"
    }
   ],
   "source": [
    "#write a factorial using function\n",
    "def fact(x):\n",
    "    if x<2:\n",
    "        return x\n",
    "    else:\n",
    "        return fact(x-1) + fact(x-2)\n",
    "fact(7)"
   ]
  },
  {
   "cell_type": "code",
   "execution_count": 3,
   "metadata": {},
   "outputs": [],
   "source": [
    "dict = {\n",
    "    \"name\": \"Nami San\",\n",
    "    \"gender\": \"Female\"\n",
    "    }"
   ]
  },
  {
   "cell_type": "code",
   "execution_count": 5,
   "metadata": {},
   "outputs": [
    {
     "data": {
      "text/plain": [
       "'Female'"
      ]
     },
     "execution_count": 5,
     "metadata": {},
     "output_type": "execute_result"
    }
   ],
   "source": [
    "dict['gender']"
   ]
  },
  {
   "cell_type": "code",
   "execution_count": 52,
   "metadata": {},
   "outputs": [
    {
     "name": "stdout",
     "output_type": "stream",
     "text": [
      "None\n"
     ]
    }
   ],
   "source": [
    "li = ['1','2','3','4','5']\n",
    "print(li.sort())"
   ]
  },
  {
   "cell_type": "code",
   "execution_count": 49,
   "metadata": {},
   "outputs": [
    {
     "name": "stdout",
     "output_type": "stream",
     "text": [
      "       *      \n",
      "      * *      \n",
      "     * * *     \n",
      "    * * * *    \n",
      "   * * * * *   \n",
      "      * *      \n",
      "     * * *     \n",
      "    * * * *    \n",
      "   * * * * *   \n",
      "      * *      \n",
      "     * * *     \n",
      "    * * * *    \n",
      "   * * * * *   \n",
      "      * *\n",
      "      * *\n",
      "      * *\n",
      "      * *\n"
     ]
    }
   ],
   "source": [
    "tl = 5\n",
    "ip = 5\n",
    "ip2 = 5\n",
    "print(' '* (5) +'  *'+ ' ' +' '*5)\n",
    "for x in range(3):\n",
    "    ip = 5\n",
    "    for x in range(2, ip+1):\n",
    "        print(' '* (ip) +' *'*x+ ' ' +' '* (ip))\n",
    "        ip-=1\n",
    "\n",
    "        "
   ]
  },
  {
   "cell_type": "code",
   "execution_count": 56,
   "metadata": {},
   "outputs": [
    {
     "name": "stdout",
     "output_type": "stream",
     "text": [
      "Hello  nevs\n"
     ]
    }
   ],
   "source": [
    "a = 'nevs'\n",
    "def fun1():\n",
    "    print('Hello ',a)\n",
    "    \n",
    "fun1()"
   ]
  },
  {
   "cell_type": "code",
   "execution_count": 57,
   "metadata": {},
   "outputs": [
    {
     "data": {
      "text/plain": [
       "24"
      ]
     },
     "execution_count": 57,
     "metadata": {},
     "output_type": "execute_result"
    }
   ],
   "source": [
    "x = lambda x: x+12\n",
    "x(12)"
   ]
  },
  {
   "cell_type": "code",
   "execution_count": 58,
   "metadata": {},
   "outputs": [
    {
     "data": {
      "text/plain": [
       "6"
      ]
     },
     "execution_count": 58,
     "metadata": {},
     "output_type": "execute_result"
    }
   ],
   "source": [
    "fn = lambda a,b: a+b\n",
    "fn(2,4)"
   ]
  },
  {
   "cell_type": "code",
   "execution_count": 69,
   "metadata": {},
   "outputs": [
    {
     "name": "stdout",
     "output_type": "stream",
     "text": [
      "12\n",
      "[3, 6, 3]\n"
     ]
    }
   ],
   "source": [
    "from functools import *\n",
    "\n",
    "li = [1,2,2,4,1,2]\n",
    "f2 = reduce(lambda a,b:a+b,li)\n",
    "print(f2)\n",
    "li = [[1,2],[2,4],[1,2]]\n",
    "f2 = list(map(lambda a,b:a[0]+b[1],li,li))\n",
    "print(f2)"
   ]
  },
  {
   "cell_type": "code",
   "execution_count": 75,
   "metadata": {},
   "outputs": [
    {
     "name": "stdout",
     "output_type": "stream",
     "text": [
      "12\n",
      "10\n"
     ]
    }
   ],
   "source": [
    "class a:\n",
    "    x = 10\n",
    "    def __init__(self, x):\n",
    "        self.x = x\n",
    "        \n",
    "obj = a(12)\n",
    "print(obj.x)\n",
    "print(a.x)"
   ]
  },
  {
   "cell_type": "code",
   "execution_count": 12,
   "metadata": {},
   "outputs": [
    {
     "data": {
      "text/plain": [
       "[' ', ' ']"
      ]
     },
     "execution_count": 12,
     "metadata": {},
     "output_type": "execute_result"
    }
   ],
   "source": [
    "#Regular Expression\n",
    "import re\n",
    "\n",
    "str = \"Steven asks nothing\"\n",
    "\n",
    "re.findall('\\W',str)"
   ]
  },
  {
   "cell_type": "code",
   "execution_count": 13,
   "metadata": {},
   "outputs": [
    {
     "data": {
      "text/plain": [
       "'456'"
      ]
     },
     "execution_count": 13,
     "metadata": {},
     "output_type": "execute_result"
    }
   ],
   "source": [
    "re.sub(r'[a-z]','','4g5hj6')"
   ]
  },
  {
   "cell_type": "code",
   "execution_count": 16,
   "metadata": {},
   "outputs": [
    {
     "data": {
      "text/plain": [
       "'02/03/2020'"
      ]
     },
     "execution_count": 16,
     "metadata": {},
     "output_type": "execute_result"
    }
   ],
   "source": [
    "date = '2020-02-03'\n",
    "re.sub(r'(\\d{4})-(\\d{2})-(\\d{2})',r'\\2/\\3/\\1',date)"
   ]
  },
  {
   "cell_type": "code",
   "execution_count": 44,
   "metadata": {},
   "outputs": [
    {
     "data": {
      "text/plain": [
       "['.', '.']"
      ]
     },
     "execution_count": 44,
     "metadata": {},
     "output_type": "execute_result"
    }
   ],
   "source": [
    "# Write a Python program to check that a string contains only a certain set of characters (in this case a-z, A-Z and 0-9)\n",
    "import re\n",
    "str1 = 'sas129nk..saZZA'\n",
    "re.findall(r'[^a-zA-Z0-9]',str1)"
   ]
  },
  {
   "cell_type": "code",
   "execution_count": 48,
   "metadata": {
    "scrolled": true
   },
   "outputs": [
    {
     "name": "stdout",
     "output_type": "stream",
     "text": [
      "Invalid String\n",
      "Valid String\n",
      "Valid String\n"
     ]
    }
   ],
   "source": [
    "def checkValid(str, b=True):\n",
    "    if(b):\n",
    "        if(len(re.findall(r'\\w',str))==0):\n",
    "            print(\"Valid String\")\n",
    "        else:\n",
    "            print(\"Invalid String\")\n",
    "    else:\n",
    "        if(len(re.findall(r'\\W',str))==0):\n",
    "            print(\"Valid String\")\n",
    "        else:\n",
    "            print(\"Invalid String\")\n",
    "\n",
    "checkValid('sas129nk..saZZA',False)\n",
    "checkValid('sas129nksaZZA',False)\n",
    "checkValid('@^.^@')"
   ]
  },
  {
   "cell_type": "code",
   "execution_count": null,
   "metadata": {},
   "outputs": [],
   "source": []
  },
  {
   "cell_type": "code",
   "execution_count": 63,
   "metadata": {},
   "outputs": [
    {
     "name": "stdout",
     "output_type": "stream",
     "text": [
      "String does not contains trailing of character \"b\"\n",
      "String contains trailing of character \"b\"\n",
      "String does not contains trailing of character \"b\"\n"
     ]
    }
   ],
   "source": [
    "#Write a python program that matches a string that has an a followed by zero or more b's\n",
    "def checkValid(str):\n",
    "    if len(re.findall(r'bbb$',str))>0:\n",
    "        print('String contains 3 characters of \"b\"')\n",
    "    else:\n",
    "        print('String does not contains trailing of character \"b\"')\n",
    "    \n",
    "checkValid('asasdbb')\n",
    "checkValid('asasdbbb')\n",
    "checkValid('asasdb')\n"
   ]
  },
  {
   "cell_type": "code",
   "execution_count": 67,
   "metadata": {},
   "outputs": [
    {
     "data": {
      "text/plain": [
       "'0.33'"
      ]
     },
     "execution_count": 67,
     "metadata": {},
     "output_type": "execute_result"
    }
   ],
   "source": [
    "'{0:.2}'.format(1/3)"
   ]
  },
  {
   "cell_type": "code",
   "execution_count": 2,
   "metadata": {},
   "outputs": [
    {
     "name": "stdout",
     "output_type": "stream",
     "text": [
      "\n",
      "1 \n",
      "2 2 \n",
      "3 3 3 \n",
      "4 4 4 4 \n"
     ]
    }
   ],
   "source": [
    "for i in range(5):\n",
    "    print((str(i)+ ' ') * i) "
   ]
  },
  {
   "cell_type": "code",
   "execution_count": 7,
   "metadata": {},
   "outputs": [
    {
     "name": "stdout",
     "output_type": "stream",
     "text": [
      "\n",
      "1 \n",
      "1 2 \n",
      "1 2 3 \n",
      "1 2 3 4 \n",
      "1 2 3 4 5 "
     ]
    }
   ],
   "source": [
    "for i in range(5):\n",
    "    print('')\n",
    "    for j in range(i+1):\n",
    "        print(j+1,end=' ') "
   ]
  },
  {
   "cell_type": "code",
   "execution_count": 10,
   "metadata": {},
   "outputs": [
    {
     "name": "stdout",
     "output_type": "stream",
     "text": [
      "*****\n",
      "****\n",
      "***\n",
      "**\n",
      "*\n"
     ]
    }
   ],
   "source": [
    "n = 5\n",
    "for i in range(n):\n",
    "    print('*' * (n-i)) "
   ]
  },
  {
   "cell_type": "code",
   "execution_count": 43,
   "metadata": {},
   "outputs": [
    {
     "name": "stdout",
     "output_type": "stream",
     "text": [
      "4\n"
     ]
    }
   ],
   "source": [
    "def HCF(args=[]):\n",
    "    min = args[0]\n",
    "    for i in range(len(args)):\n",
    "        if(min > args[i]):\n",
    "            min = args[i]\n",
    "    #print(min)\n",
    "    for i in range(min,2,-1):\n",
    "        flag = True\n",
    "        for n in args:\n",
    "            if(n%i!=0):\n",
    "                #print(n,i)\n",
    "                flag = False\n",
    "                break\n",
    "        if(flag):\n",
    "            return i\n",
    "    return \"Not Found\"\n",
    "\n",
    "i = HCF([12,72,68,56])\n",
    "print(i)"
   ]
  },
  {
   "cell_type": "code",
   "execution_count": 8,
   "metadata": {},
   "outputs": [
    {
     "name": "stdout",
     "output_type": "stream",
     "text": [
      "      *      \n",
      "     * *     \n",
      "    * * *    \n",
      "   * * * *   \n",
      "  * * * * *  \n",
      "     * *\n",
      "     * *\n",
      "     * *\n",
      "     * *\n"
     ]
    }
   ],
   "source": [
    "ip = 5\n",
    "for x in range(1, ip+1):\n",
    "    print(' '* (ip) +' *'*x+ ' ' +' '* (ip))\n",
    "    ip-=1\n",
    "ip2 = 5\n",
    "for x in range(1, ip2+1//2):\n",
    "    print(' '+' '*(ip2//2)+ ' '+ ' *'*(ip2//2))"
   ]
  },
  {
   "cell_type": "code",
   "execution_count": 17,
   "metadata": {},
   "outputs": [
    {
     "name": "stdout",
     "output_type": "stream",
     "text": [
      "\n",
      "\n",
      "* \n",
      "* * \n",
      "* * * \n",
      "* * * * \n",
      "* * * * * \n",
      "* * * * * * \n",
      "* * * * * * * \n",
      "* * * * * * * * "
     ]
    }
   ],
   "source": [
    "y = 1\n",
    "for i in range(1,10):\n",
    "    print('')\n",
    "    for j in range(1,10):\n",
    "        if(i<y or j<y):\n",
    "            print('*',end = ' ')\n",
    "            \n",
    "    y += 1"
   ]
  },
  {
   "cell_type": "code",
   "execution_count": 116,
   "metadata": {},
   "outputs": [
    {
     "name": "stdout",
     "output_type": "stream",
     "text": [
      "WS\n",
      "Opposite seat of 47 is  38\n",
      "2\n",
      "Type of seat no.  38  is the None\n"
     ]
    }
   ],
   "source": [
    "arr = {0:'WS',1:'WS',12:'WS','6':'WS','7':'WS','2':'MS','5':'MS','8':'MS',11:'MS','3':'AS','4':'AS','9':'AS','10':'AS'}\n",
    "\n",
    "print(arr.get(1))\n",
    "def oppositeSeat(num):\n",
    "    #opp seat\n",
    "    if(num%12==0):\n",
    "        print(\"Opposite seat no. is\",((int(num/12)-1)*12)+1)\n",
    "        print(\"Type of seat no.\",((int(num/12)-1)*12)+1,\"is the Window Seat\")\n",
    "        return\n",
    "    oppSeat = 12*(int(num/12)+1)+1 - (num%12)\n",
    "    print(\"Opposite seat of\",num,\"is \",oppSeat)\n",
    "    #type seat\n",
    "    numTemp = (oppSeat%12)\n",
    "    print(numTemp)\n",
    "    print(\"Type of seat no. \",oppSeat,\" is the\",arr.get(numTemp))\n",
    "    \n",
    "    \n",
    "oppositeSeat(47)"
   ]
  },
  {
   "cell_type": "code",
   "execution_count": 49,
   "metadata": {},
   "outputs": [
    {
     "name": "stdout",
     "output_type": "stream",
     "text": [
      "12\n"
     ]
    }
   ],
   "source": [
    "num = 1\n",
    "oppSeat = 12*(int(num/12)+1)+1 - (num%12)\n",
    "print(oppSeat)"
   ]
  },
  {
   "cell_type": "code",
   "execution_count": 147,
   "metadata": {},
   "outputs": [
    {
     "name": "stdout",
     "output_type": "stream",
     "text": [
      "cytB!Pg309!@\n"
     ]
    }
   ],
   "source": [
    "import random, string\n",
    "\n",
    "def gen():\n",
    "    len1 = random.randint(8,15)\n",
    "    pwd = ''\n",
    "    arr = []\n",
    "    for i in range(len1):\n",
    "        n = random.randint(1,3)\n",
    "        if(n==1):\n",
    "            arr.append(random.choice(string.ascii_letters))\n",
    "        elif(n==2):\n",
    "            arr.append(random.choice('@%#$*!@&*!'))\n",
    "        else:\n",
    "            arr.append(random.choice('1234567890'))\n",
    "    \n",
    "    random.shuffle(arr)\n",
    "    pwd = ''.join(arr)\n",
    "    print(pwd)\n",
    "gen()"
   ]
  },
  {
   "cell_type": "code",
   "execution_count": 149,
   "metadata": {},
   "outputs": [
    {
     "data": {
      "text/plain": [
       "'ABCDEFGHIJKLMNOPQRSTUVWXYZ'"
      ]
     },
     "execution_count": 149,
     "metadata": {},
     "output_type": "execute_result"
    }
   ],
   "source": [
    "string.ascii_uppercase"
   ]
  },
  {
   "cell_type": "code",
   "execution_count": 160,
   "metadata": {},
   "outputs": [
    {
     "name": "stdout",
     "output_type": "stream",
     "text": [
      "mawa\n",
      "23271\n"
     ]
    }
   ],
   "source": [
    "import re\n",
    "\n",
    "str = '2 m 32a w 7 1 a'\n",
    "char = ''\n",
    "num = ''\n",
    "for p in str:\n",
    "    if p == ' ':\n",
    "        continue\n",
    "    elif re.search(\"[A-Za-z]\",p):\n",
    "        char += p\n",
    "        continue\n",
    "    elif re.search(\"[0-9]\",p):\n",
    "        num += p\n",
    "        continue\n",
    "    else:\n",
    "        print('???.. ignore')\n",
    "\n",
    "print(char)\n",
    "print(num)"
   ]
  },
  {
   "cell_type": "code",
   "execution_count": 154,
   "metadata": {},
   "outputs": [
    {
     "name": "stdout",
     "output_type": "stream",
     "text": [
      "2\n",
      " \n",
      "m\n",
      " \n",
      "3\n",
      " \n",
      "w\n",
      " \n",
      "7\n",
      " \n",
      "1\n",
      " \n",
      "a\n"
     ]
    }
   ],
   "source": [
    "for p in str:\n",
    "    print(p)"
   ]
  },
  {
   "cell_type": "code",
   "execution_count": 12,
   "metadata": {},
   "outputs": [
    {
     "name": "stdout",
     "output_type": "stream",
     "text": [
      "1\n",
      "2\n",
      "3\n",
      "4\n",
      "5\n",
      "6\n",
      "7\n",
      "8\n"
     ]
    }
   ],
   "source": [
    "d = {9:[2,1,3,4,5,6,7,8]}\n",
    "\n",
    "d[9].sort()\n",
    "arr = d[9]\n",
    "arr2 = []\n",
    "for x in arr:\n",
    "    if(x<9):\n",
    "        arr2.append(x)\n",
    "\n",
    "for i in arr2:\n",
    "    print(i)\n",
    "    \n",
    "    sum(0,)"
   ]
  },
  {
   "cell_type": "code",
   "execution_count": 17,
   "metadata": {},
   "outputs": [],
   "source": [
    "import tkinter as tk\n",
    "window = tk.Tk()\n",
    "greeting = tk.Label(text=\"Red\",fg=\"White\",bg=\"Red\",width=\"10\",height=\"10\")\n",
    "#run on shell"
   ]
  },
  {
   "cell_type": "markdown",
   "metadata": {},
   "source": [
    "*String processing*"
   ]
  },
  {
   "cell_type": "code",
   "execution_count": 14,
   "metadata": {},
   "outputs": [
    {
     "name": "stdout",
     "output_type": "stream",
     "text": [
      "True\n",
      "False\n",
      "True\n",
      "False\n",
      "True\n",
      "False\n",
      "ab\n",
      "2\n",
      "('a', 'b', 'c')\n"
     ]
    }
   ],
   "source": [
    "print('abc'.isalpha())\n",
    "print('abc'.isdecimal())\n",
    "print('abc'.isalnum())\n",
    "print('abc'.isnumeric())\n",
    "print('abc'.islower())\n",
    "print('abc'.isupper())\n",
    "print('cabc'.strip('c'))\n",
    "print('abc'.rfind('c'))\n",
    "print('abc'.partition('b'))"
   ]
  },
  {
   "cell_type": "markdown",
   "metadata": {},
   "source": [
    "List"
   ]
  },
  {
   "cell_type": "code",
   "execution_count": 34,
   "metadata": {},
   "outputs": [
    {
     "data": {
      "text/plain": [
       "[1, 2, 3, 4, 1]"
      ]
     },
     "execution_count": 34,
     "metadata": {},
     "output_type": "execute_result"
    }
   ],
   "source": [
    "li = list([1,2,3,4])\n",
    "li.append(1)\n",
    "li"
   ]
  },
  {
   "cell_type": "code",
   "execution_count": 33,
   "metadata": {},
   "outputs": [
    {
     "name": "stdout",
     "output_type": "stream",
     "text": [
      "(0, 1)\n",
      "(1, 2)\n",
      "(2, 3)\n",
      "(3, 4)\n",
      "(4, 1)\n"
     ]
    }
   ],
   "source": [
    "for i in enumerate(li):\n",
    "    print(i)"
   ]
  },
  {
   "cell_type": "code",
   "execution_count": 43,
   "metadata": {},
   "outputs": [
    {
     "name": "stdout",
     "output_type": "stream",
     "text": [
      "True\n",
      "False\n"
     ]
    }
   ],
   "source": [
    "print(any([1,2,0]))\n",
    "print(all([1,2,0,False]))"
   ]
  },
  {
   "cell_type": "code",
   "execution_count": 48,
   "metadata": {},
   "outputs": [
    {
     "data": {
      "text/plain": [
       "[1, 4, 9, 16, 1]"
      ]
     },
     "execution_count": 48,
     "metadata": {},
     "output_type": "execute_result"
    }
   ],
   "source": [
    "ml = [ pow(i,2) for i in li]\n",
    "ml"
   ]
  },
  {
   "cell_type": "code",
   "execution_count": 62,
   "metadata": {},
   "outputs": [
    {
     "data": {
      "text/plain": [
       "['abc', 'bcd']"
      ]
     },
     "execution_count": 62,
     "metadata": {},
     "output_type": "execute_result"
    }
   ],
   "source": [
    "dict = {'1':'abc',2:'bcd'}\n",
    "x = list(dict.values())\n",
    "x"
   ]
  },
  {
   "cell_type": "code",
   "execution_count": 63,
   "metadata": {},
   "outputs": [
    {
     "data": {
      "text/plain": [
       "{'1': 'abc', 2: 'bcd'}"
      ]
     },
     "execution_count": 63,
     "metadata": {},
     "output_type": "execute_result"
    }
   ],
   "source": [
    "dict"
   ]
  },
  {
   "cell_type": "code",
   "execution_count": 3,
   "metadata": {},
   "outputs": [
    {
     "data": {
      "text/plain": [
       "dtype('int32')"
      ]
     },
     "execution_count": 3,
     "metadata": {},
     "output_type": "execute_result"
    }
   ],
   "source": [
    "import numpy as np\n",
    "n = np.arange(15).reshape(5, 3)\n",
    "n.dtype"
   ]
  },
  {
   "cell_type": "code",
   "execution_count": 9,
   "metadata": {},
   "outputs": [
    {
     "data": {
      "text/plain": [
       "array([[10,  9,  8],\n",
       "       [ 7,  6,  5],\n",
       "       [ 4,  3,  2]])"
      ]
     },
     "execution_count": 9,
     "metadata": {},
     "output_type": "execute_result"
    }
   ],
   "source": [
    "a = np.arange(9).reshape(3, 3)\n",
    "b = np.array([10,10,10,10,10,10,10,10,10]).reshape(3, 3)\n",
    "c = abs(a-b)\n",
    "c"
   ]
  },
  {
   "cell_type": "code",
   "execution_count": 37,
   "metadata": {},
   "outputs": [
    {
     "data": {
      "text/plain": [
       "array([0, 3], dtype=int32)"
      ]
     },
     "execution_count": 37,
     "metadata": {},
     "output_type": "execute_result"
    }
   ],
   "source": [
    "r = np.asarray([2,3,1,6,3,6,2,3,4])\n",
    "np.searchsorted(r,[1,2])"
   ]
  },
  {
   "cell_type": "code",
   "execution_count": 12,
   "metadata": {},
   "outputs": [],
   "source": [
    "d = a.copy()"
   ]
  },
  {
   "cell_type": "code",
   "execution_count": 13,
   "metadata": {},
   "outputs": [
    {
     "data": {
      "text/plain": [
       "array([[0, 1, 2],\n",
       "       [3, 4, 5],\n",
       "       [6, 7, 8]])"
      ]
     },
     "execution_count": 13,
     "metadata": {},
     "output_type": "execute_result"
    }
   ],
   "source": [
    "d"
   ]
  },
  {
   "cell_type": "code",
   "execution_count": 24,
   "metadata": {},
   "outputs": [
    {
     "name": "stdout",
     "output_type": "stream",
     "text": [
      "[[0 1 2]\n",
      " [3 4 5]\n",
      " [6 7 8]] <memory at 0x0AB22E40> int32 (3, 3) None\n"
     ]
    }
   ],
   "source": [
    "print(d,d.data, d.dtype,d.shape, d.base)"
   ]
  },
  {
   "cell_type": "code",
   "execution_count": 19,
   "metadata": {},
   "outputs": [
    {
     "data": {
      "text/plain": [
       "array([[0, 1, 2],\n",
       "       [3, 4, 5],\n",
       "       [6, 7, 8]])"
      ]
     },
     "execution_count": 19,
     "metadata": {},
     "output_type": "execute_result"
    }
   ],
   "source": [
    "d.view()"
   ]
  },
  {
   "cell_type": "code",
   "execution_count": 25,
   "metadata": {},
   "outputs": [
    {
     "ename": "AttributeError",
     "evalue": "module 'numpy' has no attribute 'sortedsearch'",
     "output_type": "error",
     "traceback": [
      "\u001b[1;31m---------------------------------------------------------------------------\u001b[0m",
      "\u001b[1;31mAttributeError\u001b[0m                            Traceback (most recent call last)",
      "\u001b[1;32m<ipython-input-25-6599f2b1eae0>\u001b[0m in \u001b[0;36m<module>\u001b[1;34m\u001b[0m\n\u001b[1;32m----> 1\u001b[1;33m \u001b[0mnp\u001b[0m\u001b[1;33m.\u001b[0m\u001b[0msortedsearch\u001b[0m\u001b[1;33m(\u001b[0m\u001b[0md\u001b[0m\u001b[1;33m,\u001b[0m\u001b[1;36m2\u001b[0m\u001b[1;33m)\u001b[0m\u001b[1;33m\u001b[0m\u001b[1;33m\u001b[0m\u001b[0m\n\u001b[0m",
      "\u001b[1;32m~\\AppData\\Roaming\\Python\\Python37\\site-packages\\numpy\\__init__.py\u001b[0m in \u001b[0;36m__getattr__\u001b[1;34m(attr)\u001b[0m\n\u001b[0;32m    218\u001b[0m             \u001b[1;32melse\u001b[0m\u001b[1;33m:\u001b[0m\u001b[1;33m\u001b[0m\u001b[1;33m\u001b[0m\u001b[0m\n\u001b[0;32m    219\u001b[0m                 raise AttributeError(\"module {!r} has no attribute \"\n\u001b[1;32m--> 220\u001b[1;33m                                      \"{!r}\".format(__name__, attr))\n\u001b[0m\u001b[0;32m    221\u001b[0m \u001b[1;33m\u001b[0m\u001b[0m\n\u001b[0;32m    222\u001b[0m         \u001b[1;32mdef\u001b[0m \u001b[0m__dir__\u001b[0m\u001b[1;33m(\u001b[0m\u001b[1;33m)\u001b[0m\u001b[1;33m:\u001b[0m\u001b[1;33m\u001b[0m\u001b[1;33m\u001b[0m\u001b[0m\n",
      "\u001b[1;31mAttributeError\u001b[0m: module 'numpy' has no attribute 'sortedsearch'"
     ]
    }
   ],
   "source": [
    "np.sortedsearch(d,2)"
   ]
  },
  {
   "cell_type": "markdown",
   "metadata": {},
   "source": [
    "# Classes and Method"
   ]
  },
  {
   "cell_type": "code",
   "execution_count": 42,
   "metadata": {},
   "outputs": [
    {
     "name": "stdout",
     "output_type": "stream",
     "text": [
      "Drived Class\n",
      "Base Class\n"
     ]
    }
   ],
   "source": [
    "class A:\n",
    "    def _init_(self):\n",
    "        pass\n",
    "    \n",
    "    def super1(self):\n",
    "        print('Base Class')\n",
    "    \n",
    "class B(A):\n",
    "    def _init_(self):\n",
    "        pass\n",
    "    \n",
    "    def super2(self):\n",
    "        print('Drived Class')\n",
    "        super().super1()\n",
    "        \n",
    "a = B()\n",
    "a.super2()"
   ]
  },
  {
   "cell_type": "code",
   "execution_count": 43,
   "metadata": {},
   "outputs": [],
   "source": [
    "import pandas as pd"
   ]
  },
  {
   "cell_type": "code",
   "execution_count": 47,
   "metadata": {},
   "outputs": [
    {
     "data": {
      "text/html": [
       "<div>\n",
       "<style scoped>\n",
       "    .dataframe tbody tr th:only-of-type {\n",
       "        vertical-align: middle;\n",
       "    }\n",
       "\n",
       "    .dataframe tbody tr th {\n",
       "        vertical-align: top;\n",
       "    }\n",
       "\n",
       "    .dataframe thead th {\n",
       "        text-align: right;\n",
       "    }\n",
       "</style>\n",
       "<table border=\"1\" class=\"dataframe\">\n",
       "  <thead>\n",
       "    <tr style=\"text-align: right;\">\n",
       "      <th></th>\n",
       "      <th>name</th>\n",
       "      <th>num</th>\n",
       "    </tr>\n",
       "  </thead>\n",
       "  <tbody>\n",
       "    <tr>\n",
       "      <th>0</th>\n",
       "      <td>steve</td>\n",
       "      <td>1</td>\n",
       "    </tr>\n",
       "    <tr>\n",
       "      <th>1</th>\n",
       "      <td>steve2</td>\n",
       "      <td>2</td>\n",
       "    </tr>\n",
       "    <tr>\n",
       "      <th>2</th>\n",
       "      <td>steve3</td>\n",
       "      <td>4</td>\n",
       "    </tr>\n",
       "    <tr>\n",
       "      <th>3</th>\n",
       "      <td>steve4</td>\n",
       "      <td>5</td>\n",
       "    </tr>\n",
       "    <tr>\n",
       "      <th>4</th>\n",
       "      <td>steve5</td>\n",
       "      <td>2</td>\n",
       "    </tr>\n",
       "  </tbody>\n",
       "</table>\n",
       "</div>"
      ],
      "text/plain": [
       "     name  num\n",
       "0   steve    1\n",
       "1  steve2    2\n",
       "2  steve3    4\n",
       "3  steve4    5\n",
       "4  steve5    2"
      ]
     },
     "execution_count": 47,
     "metadata": {},
     "output_type": "execute_result"
    }
   ],
   "source": [
    "data = {'name':['steve','steve2','steve3','steve4','steve5'],'num':[1,2,4,5,2]}\n",
    "\n",
    "df = pd.DataFrame(data)\n",
    "df"
   ]
  },
  {
   "cell_type": "code",
   "execution_count": null,
   "metadata": {},
   "outputs": [],
   "source": []
  }
 ],
 "metadata": {
  "kernelspec": {
   "display_name": "Python 3",
   "language": "python",
   "name": "python3"
  },
  "language_info": {
   "codemirror_mode": {
    "name": "ipython",
    "version": 3
   },
   "file_extension": ".py",
   "mimetype": "text/x-python",
   "name": "python",
   "nbconvert_exporter": "python",
   "pygments_lexer": "ipython3",
   "version": "3.7.3"
  }
 },
 "nbformat": 4,
 "nbformat_minor": 4
}
