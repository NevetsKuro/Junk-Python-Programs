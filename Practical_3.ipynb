{
 "cells": [
  {
   "cell_type": "code",
   "execution_count": 1,
   "metadata": {},
   "outputs": [],
   "source": [
    "#Task 1\n",
    "inventory = {\n",
    "    'gold' : 500,\n",
    "    'pouch' : ['flint', 'twine', 'gemstone'],\n",
    "    'backpack' : ['xylophone','dagger', 'bedroll','bread loaf']\n",
    "}"
   ]
  },
  {
   "cell_type": "code",
   "execution_count": 2,
   "metadata": {},
   "outputs": [
    {
     "name": "stdout",
     "output_type": "stream",
     "text": [
      "{'gold': 500, 'pouch': ['flint', 'twine', 'gemstone'], 'backpack': ['xylophone', 'dagger', 'bedroll', 'bread loaf'], 'pocket': ['seashell', 'strangeberry', 'lint']}\n"
     ]
    }
   ],
   "source": [
    "inventory['pocket'] = ['seashell','strangeberry','lint']\n",
    "print(inventory)"
   ]
  },
  {
   "cell_type": "code",
   "execution_count": 3,
   "metadata": {},
   "outputs": [
    {
     "name": "stdout",
     "output_type": "stream",
     "text": [
      "inventory\n"
     ]
    }
   ],
   "source": [
    "inventory['backpack'] = sorted(inventory['backpack'])\n",
    "print('inventory')"
   ]
  },
  {
   "cell_type": "code",
   "execution_count": 4,
   "metadata": {},
   "outputs": [
    {
     "name": "stdout",
     "output_type": "stream",
     "text": [
      "{'gold': 500, 'pouch': ['flint', 'twine', 'gemstone'], 'backpack': ['bedroll', 'bread loaf', 'xylophone'], 'pocket': ['seashell', 'strangeberry', 'lint']}\n"
     ]
    }
   ],
   "source": [
    "inventory['backpack'].remove('dagger')\n",
    "print(inventory)"
   ]
  },
  {
   "cell_type": "code",
   "execution_count": 5,
   "metadata": {},
   "outputs": [
    {
     "name": "stdout",
     "output_type": "stream",
     "text": [
      "Banana \n",
      "Price: 4 \n",
      "Stock: 6\n",
      "Apple \n",
      "Price: 2 \n",
      "Stock: 0\n",
      "Orange \n",
      "Price: 1.5 \n",
      "Stock: 32\n",
      "Pear \n",
      "Price: 3 \n",
      "Stock: 15\n",
      "Total Revenue: 117.0\n"
     ]
    }
   ],
   "source": [
    "#Task 2\n",
    "prices = {\n",
    "    'Banana':4,\n",
    "    'Apple':2,\n",
    "    'Orange':1.5,\n",
    "    'Pear':3\n",
    "}\n",
    "\n",
    "stock = {\n",
    "    'Banana':6,\n",
    "    'Apple':0,\n",
    "    'Orange':32,\n",
    "    'Pear':15 \n",
    "}\n",
    "\n",
    "for y in prices:\n",
    "    print(y,'\\nPrice:',prices[y],'\\nStock:',stock[y])\n",
    "\n",
    "total = 0\n",
    "total = sum([prices[y]*stock[y] for y in prices])\n",
    "print('Total Revenue:',total)"
   ]
  },
  {
   "cell_type": "code",
   "execution_count": 16,
   "metadata": {},
   "outputs": [],
   "source": [
    "#Task 3\n",
    "#dictionaries\n",
    "lloyd = {\n",
    "    \"name\": \"Lloyd\",\n",
    "    \"homework\": [90.0,97.0,75.0,92.0],\n",
    "    \"quizzes\": [88.0,40.0,94.0],\n",
    "    \"tests\": [75.0,90.0]\n",
    "}\n",
    "alice={\n",
    "    \"name\": \"Alice\",\n",
    "    \"homework\": [90.0,97.0,77.0,92.0],\n",
    "    \"quizzes\": [77.0,47.0,94.0],\n",
    "    \"tests\": [95.0,97.0]\n",
    "}\n",
    "tyler={\n",
    "    \"name\": \"Tyler\",\n",
    "    \"homework\": [55.0,77.0,75.0,52.0],\n",
    "    \"quizzes\": [77.0,45.0,95.0],\n",
    "    \"tests\": [65.0,60.0]\n",
    "}\n",
    "\n",
    "def average(nums):\n",
    "    total = float(sum(nums))\n",
    "    avg = total/len(nums)\n",
    "    return avg\n",
    "\n",
    "def get_letter_grade(score):\n",
    "    if(score>=90):\n",
    "        return 'A'\n",
    "    elif(score>=80):\n",
    "        return 'B'\n",
    "    elif(score>=70):\n",
    "        return 'C'\n",
    "    elif(score>=60):\n",
    "        return 'D'\n",
    "    else:\n",
    "        return 'E'\n",
    "    \n",
    "def get_class_average(students):\n",
    "    results = []\n",
    "    for student in students:\n",
    "        print('Individual Academic Records of',student.upper())\n",
    "        avg_hw = average(list_of_student[student]['homework'])\n",
    "        print('Avg in homework:',avg_hw,'Grade:',get_letter_grade(avg_hw))\n",
    "        avg_quiz = average(list_of_student[student]['quizzes'])\n",
    "        print('Avg in quiz:',avg_quiz,'Grade:',get_letter_grade(avg_quiz))\n",
    "        avg_tests = average(list_of_student[student]['tests'])\n",
    "        print('Avg in tests:',avg_tests,'Grade:',get_letter_grade(avg_tests))\n",
    "        avg_tots = average(list_of_student[student]['homework'] \n",
    "                           + list_of_student[student]['quizzes'] \n",
    "                           + list_of_student[student]['tests'])\n",
    "        print('Avg in above academics:',avg_tots)\n",
    "        results.append(avg_tots)\n",
    "    return ('Class average is: '+str(average(results))+' Grade given: '+ str(get_letter_grade(average(results))))"
   ]
  },
  {
   "cell_type": "code",
   "execution_count": 17,
   "metadata": {},
   "outputs": [
    {
     "name": "stdout",
     "output_type": "stream",
     "text": [
      "Individual Academic Records of TYLER\n",
      "Avg in homework: 64.75 Grade: D\n",
      "Avg in quiz: 72.33333333333333 Grade: C\n",
      "Avg in tests: 62.5 Grade: D\n",
      "Avg in above academics: 66.77777777777777\n",
      "Individual Academic Records of ALICE\n",
      "Avg in homework: 89.0 Grade: B\n",
      "Avg in quiz: 72.66666666666667 Grade: C\n",
      "Avg in tests: 96.0 Grade: A\n",
      "Avg in above academics: 85.11111111111111\n",
      "Individual Academic Records of LLOYD\n",
      "Avg in homework: 88.5 Grade: B\n",
      "Avg in quiz: 74.0 Grade: C\n",
      "Avg in tests: 82.5 Grade: B\n",
      "Avg in above academics: 82.33333333333333\n"
     ]
    },
    {
     "data": {
      "text/plain": [
       "'Class average is: 78.07407407407408 Grade given: C'"
      ]
     },
     "execution_count": 17,
     "metadata": {},
     "output_type": "execute_result"
    }
   ],
   "source": [
    "list_of_student = {\n",
    "    'tyler':tyler,\n",
    "    'alice':alice,\n",
    "    'lloyd':lloyd\n",
    "}\n",
    "get_class_average(list_of_student)"
   ]
  },
  {
   "cell_type": "code",
   "execution_count": 8,
   "metadata": {},
   "outputs": [
    {
     "data": {
      "text/plain": [
       "True"
      ]
     },
     "execution_count": 8,
     "metadata": {},
     "output_type": "execute_result"
    }
   ],
   "source": [
    "#Task 4\n",
    "import string\n",
    "def isPangram(sentence):\n",
    "    xlist = list(string.ascii_lowercase)\n",
    "    for x in list(sentence):\n",
    "        if x in xlist:\n",
    "            xlist.remove(x)\n",
    "    if(len(xlist)>0):\n",
    "        return False\n",
    "    return True\n",
    "\n",
    "isPangram('The quick brown fox jumps over the lazy dog')"
   ]
  },
  {
   "cell_type": "code",
   "execution_count": 9,
   "metadata": {},
   "outputs": [
    {
     "name": "stdout",
     "output_type": "stream",
     "text": [
      "Highest: 15\n"
     ]
    }
   ],
   "source": [
    "#Task 5\n",
    "def HCF(x,y):\n",
    "    hcf = 0\n",
    "    if(x==0 or y==0):\n",
    "        return 0\n",
    "    if(x>y):\n",
    "        smallest = y\n",
    "    else:\n",
    "        smallest = x\n",
    "    for num in range(1,smallest+1):\n",
    "        if((x%num==0) and (y%num==0)):\n",
    "            hcf = num\n",
    "    return hcf\n",
    "\n",
    "print('Highest:',HCF(45,120))"
   ]
  },
  {
   "cell_type": "code",
   "execution_count": 10,
   "metadata": {},
   "outputs": [
    {
     "data": {
      "text/plain": [
       "True"
      ]
     },
     "execution_count": 10,
     "metadata": {},
     "output_type": "execute_result"
    }
   ],
   "source": [
    "#Task 6\n",
    "def isPerfect(num):\n",
    "    x_list = [x for x in range(1,int(num/2)+1)]\n",
    "    mul_list = []\n",
    "    for x in x_list:\n",
    "        if(num%x==0):\n",
    "            mul_list.append(x)\n",
    "    return sum(mul_list) == num\n",
    "isPerfect(6)"
   ]
  },
  {
   "cell_type": "code",
   "execution_count": 12,
   "metadata": {},
   "outputs": [
    {
     "name": "stdout",
     "output_type": "stream",
     "text": [
      "Enter a number to calculate the factorial6\n",
      "Fatorial of 6\n",
      "720\n",
      "Fibonacci sequence:\n",
      "0,1,1,2,3,5,"
     ]
    }
   ],
   "source": [
    "#Task 7\n",
    "def factOf(n):\n",
    "    if n==0:\n",
    "        return 0\n",
    "    elif n==1:\n",
    "        return 1\n",
    "    else:\n",
    "        return n * factOf(n-1)\n",
    "def fiboOf(n):\n",
    "    if n<2:\n",
    "        return n\n",
    "    else:\n",
    "        return fiboOf(n-1) + fiboOf(n-2)\n",
    "n = int(input(\"Enter a number to calculate the factorial\"))\n",
    "print(\"Fatorial of\",n)  \n",
    "print(factOf(n))\n",
    "print(\"Fibonacci sequence:\")\n",
    "for x in range(n):\n",
    "    print(fiboOf(x),end=',')"
   ]
  }
 ],
 "metadata": {
  "kernelspec": {
   "display_name": "Python 3",
   "language": "python",
   "name": "python3"
  },
  "language_info": {
   "codemirror_mode": {
    "name": "ipython",
    "version": 3
   },
   "file_extension": ".py",
   "mimetype": "text/x-python",
   "name": "python",
   "nbconvert_exporter": "python",
   "pygments_lexer": "ipython3",
   "version": "3.7.3"
  }
 },
 "nbformat": 4,
 "nbformat_minor": 4
}
