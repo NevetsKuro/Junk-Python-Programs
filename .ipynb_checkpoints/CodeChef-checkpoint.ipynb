{
 "cells": [
  {
   "cell_type": "code",
   "execution_count": 60,
   "metadata": {},
   "outputs": [
    {
     "name": "stdout",
     "output_type": "stream",
     "text": [
      "Enter Test Cases: 2\n",
      "Enter number of dishes: 3\n",
      "3 4 6\n"
     ]
    }
   ],
   "source": [
    "def isValid(dishes):\n",
    "    for dish in dishes:\n",
    "        if(dish>5):\n",
    "            return False\n",
    "    return True\n",
    "    \n",
    "def addToBurner1(burners = [], dish = 0, dishNo = 0, dishBurner = []):\n",
    "    burners[0] = dish - 1\n",
    "    dishBurner[0].append(dish)\n",
    "    dishNo += 1\n",
    "    return burners, dishNo, dishBurner\n",
    "    \n",
    "def addToBurner2(burnersc, dish = 0, dishNo = 0, dishBurner = []):\n",
    "    burners[1] = dish - 1\n",
    "    dishBurner[1].append(dish)\n",
    "    dishNo += 1\n",
    "    return burners, dishNo, dishBurner\n",
    "\n",
    "tc = int(input(\"Enter Test Cases: \"))\n",
    "\n",
    "if(tc<1000 and tc>0):\n",
    "    while(tc>0):\n",
    "        n = int(input(\"Enter number of dishes: \"))\n",
    "        if(n>4):\n",
    "            break\n",
    "        dishes = []\n",
    "        dishes = str(input()).split(\" \")\n",
    "        dishNo = 0\n",
    "        burners = [0,0]\n",
    "        dishBurner = [[0],[0]]\n",
    "        dishes = [int(i) for i in dishes if type(i)== int or i.isdigit()]\n",
    "        dishes.sort(reverse=True)\n",
    "        if(not(isValid(dishes))):\n",
    "            break\n",
    "        Sum = sum(dishes)\n",
    "        print(str(dishes))\n",
    "            \n",
    "        print(\"Sum\", Sum)\n",
    "        while(Sum>0):\n",
    "            \n",
    "            if(freeBurner(burners[0])):\n",
    "                burners, dishNo, dishBurner = addToBurner1(burners, dishes[dishNo], dishNo, dishBurner)\n",
    "                print(\"Added on burner 1\",burners, dishNo, dishBurner)\n",
    "            else:\n",
    "                burners[0] -= 1\n",
    "                \n",
    "            if(dishNo>=n):\n",
    "                break\n",
    "                \n",
    "            if(freeBurner(burners[1])):\n",
    "                burners, dishNo, dishBurner = addToBurner2(burners, dishes[dishNo], dishNo, dishBurner)\n",
    "                print(\"Added on burner 2\",burners, dishNo, dishBurner)\n",
    "            else:\n",
    "                burners[1] -= 1\n",
    "                \n",
    "            if(dishNo>=n):\n",
    "                break\n",
    "                \n",
    "            Sum -= 1\n",
    "                \n",
    "        \n",
    "        if(sum(dishBurner[0])>=sum(dishBurner[1])):\n",
    "            print(\"Minimum: \",sum(dishBurner[0]))\n",
    "        else:\n",
    "            print(\"Minimum: \",sum(dishBurner[1]))\n",
    "        \n",
    "        tc -= 1\n",
    "        "
   ]
  },
  {
   "cell_type": "code",
   "execution_count": 3,
   "metadata": {},
   "outputs": [
    {
     "data": {
      "text/plain": [
       "False"
      ]
     },
     "execution_count": 3,
     "metadata": {},
     "output_type": "execute_result"
    }
   ],
   "source": [
    "def freeBurner(burners):#ct = current time , t = time for the dish to cook\n",
    "    if(burners == 0):\n",
    "        return True\n",
    "    return False\n",
    "\n",
    "freeBurner(3)"
   ]
  },
  {
   "cell_type": "code",
   "execution_count": 37,
   "metadata": {},
   "outputs": [
    {
     "name": "stdout",
     "output_type": "stream",
     "text": [
      "[0, 1] 0 [[0], [0]]\n"
     ]
    }
   ],
   "source": [
    "def addToBurner1(burners = [], dish = 0, dishNo = 0, dishBurner = []):\n",
    "    if(burners == 0):\n",
    "        burners[0] = dish - 1\n",
    "        dishBurner[0].append(dish)\n",
    "        dishNo += 1\n",
    "        return burners, dishNo, dishBurner\n",
    "    return burners, dishNo, dishBurner\n",
    "    \n",
    "def addToBurner2(burners = [], dish = 0, dishNo = 0, dishBurner = []):\n",
    "    if(burners == 0):\n",
    "        burners[1] = dish - 1\n",
    "        dishBurner[1].append(dish)\n",
    "        dishNo += 1\n",
    "        return burners, dishNo, dishBurner\n",
    "    return burners, dishNo, dishBurner\n",
    "    \n",
    "a,b,c = addToBurner1([0,1],3,0,[[0],[0]])\n",
    "print(a,b,c)\n"
   ]
  },
  {
   "cell_type": "code",
   "execution_count": 58,
   "metadata": {},
   "outputs": [
    {
     "data": {
      "text/plain": [
       "False"
      ]
     },
     "execution_count": 58,
     "metadata": {},
     "output_type": "execute_result"
    }
   ],
   "source": [
    "def isValid(dishes):\n",
    "    for dish in dishes:\n",
    "        if(dish>5):\n",
    "            return False\n",
    "    return True\n",
    "\n",
    "isValid([1,2,6,1])"
   ]
  },
  {
   "cell_type": "code",
   "execution_count": 61,
   "metadata": {},
   "outputs": [
    {
     "name": "stdout",
     "output_type": "stream",
     "text": [
      "3\n",
      "3\n",
      "2 2 2\n",
      "4\n",
      "3\n",
      "1 2 3\n",
      "3\n",
      "4\n",
      "2 3 4 5\n",
      "7\n"
     ]
    }
   ],
   "source": [
    "def isValid(dishes):\n",
    "    for dish in dishes:\n",
    "        if(dish>5):\n",
    "            return False\n",
    "    return True\n",
    "    \n",
    "def addToBurner1(burners = [], dish = 0, dishNo = 0, dishBurner = []):\n",
    "    burners[0] = dish - 1\n",
    "    dishBurner[0].append(dish)\n",
    "    dishNo += 1\n",
    "    return burners, dishNo, dishBurner\n",
    "    \n",
    "def addToBurner2(burnersc, dish = 0, dishNo = 0, dishBurner = []):\n",
    "    burners[1] = dish - 1\n",
    "    dishBurner[1].append(dish)\n",
    "    dishNo += 1\n",
    "    return burners, dishNo, dishBurner\n",
    "\n",
    "tc = int(input())\n",
    "\n",
    "if(tc<1000 and tc>0):\n",
    "    while(tc>0):\n",
    "        n = int(input())\n",
    "        if(n>4):\n",
    "            break\n",
    "        dishes = []\n",
    "        dishes = str(input()).split(\" \")\n",
    "        dishNo = 0\n",
    "        burners = [0,0]\n",
    "        dishBurner = [[0],[0]]\n",
    "        dishes = [int(i) for i in dishes if type(i)== int or i.isdigit()]\n",
    "        dishes.sort(reverse=True)\n",
    "        if(not(isValid(dishes))):\n",
    "            break\n",
    "        Sum = sum(dishes)\n",
    "            \n",
    "        while(Sum>0):\n",
    "            \n",
    "            if(freeBurner(burners[0])):\n",
    "                burners, dishNo, dishBurner = addToBurner1(burners, dishes[dishNo], dishNo, dishBurner)\n",
    "                #print(\"Added on burner 1\",burners, dishNo, dishBurner)\n",
    "            else:\n",
    "                burners[0] -= 1\n",
    "                \n",
    "            if(dishNo>=n):\n",
    "                break\n",
    "                \n",
    "            if(freeBurner(burners[1])):\n",
    "                burners, dishNo, dishBurner = addToBurner2(burners, dishes[dishNo], dishNo, dishBurner)\n",
    "                #print(\"Added on burner 2\",burners, dishNo, dishBurner)\n",
    "            else:\n",
    "                burners[1] -= 1\n",
    "                \n",
    "            if(dishNo>=n):\n",
    "                break\n",
    "                \n",
    "            Sum -= 1\n",
    "                \n",
    "        \n",
    "        if(sum(dishBurner[0])>=sum(dishBurner[1])):\n",
    "            print(sum(dishBurner[0]))\n",
    "        else:\n",
    "            print(sum(dishBurner[1]))\n",
    "        \n",
    "        tc -= 1\n",
    "        "
   ]
  },
  {
   "cell_type": "code",
   "execution_count": null,
   "metadata": {},
   "outputs": [],
   "source": []
  }
 ],
 "metadata": {
  "kernelspec": {
   "display_name": "Python 3",
   "language": "python",
   "name": "python3"
  },
  "language_info": {
   "codemirror_mode": {
    "name": "ipython",
    "version": 3
   },
   "file_extension": ".py",
   "mimetype": "text/x-python",
   "name": "python",
   "nbconvert_exporter": "python",
   "pygments_lexer": "ipython3",
   "version": "3.7.3"
  }
 },
 "nbformat": 4,
 "nbformat_minor": 4
}
