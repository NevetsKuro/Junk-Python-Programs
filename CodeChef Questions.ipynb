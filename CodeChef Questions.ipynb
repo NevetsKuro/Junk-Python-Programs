{
 "cells": [
  {
   "cell_type": "code",
   "execution_count": 1,
   "metadata": {},
   "outputs": [
    {
     "name": "stdout",
     "output_type": "stream",
     "text": [
      "4\n",
      "1 2 2 -3\n",
      "2\n",
      "4\n",
      "-1\n",
      "1\n",
      "1\n"
     ]
    }
   ],
   "source": [
    "def getCounts(li, fin, queries):\n",
    "    finResult = [0] * queries\n",
    "    sum1 = 0\n",
    "    for y in range(len(li)):\n",
    "        for z in range(y+1, len(li)+1):\n",
    "            sum1 = sum(li[y:z])\n",
    "            if(sum1 in fin):\n",
    "                finResult[fin.index(sum1)] += 1 \n",
    "    for x in finResult:\n",
    "        print(x)\n",
    "\n",
    "# cook your dish here\n",
    "x = int(input())\n",
    "li = list(map(int,input().split()))\n",
    "if(x == len(li)):\n",
    "    queries = int(input())\n",
    "    fin = [0] * queries\n",
    "    for x in range(queries):\n",
    "        fin[x] = int(input())\n",
    "    for x in range(1,len(li)):\n",
    "        sum(rolling_window(li,x))\n",
    "    \n",
    "    \n",
    "#     getCounts(li, fin, queries)"
   ]
  },
  {
   "cell_type": "code",
   "execution_count": null,
   "metadata": {},
   "outputs": [],
   "source": [
    "# cook your dish here\n",
    "x = int(input())\n",
    "li = list(map(int,input().split()))\n",
    "if(x == len(li)):\n",
    "    queries = int(input())\n",
    "    for x in range(queries):\n",
    "        fin = int(input())\n",
    "        sum1 = 0\n",
    "        count = 0\n",
    "        for y in range(len(li)):\n",
    "            sum1 = 0\n",
    "            for z in range(y, len(li)):\n",
    "                sum1 += li[z]\n",
    "                if(sum1 == fin):\n",
    "                    count += 1\n",
    "                \n",
    "        print(count)"
   ]
  }
 ],
 "metadata": {
  "kernelspec": {
   "display_name": "Python 3",
   "language": "python",
   "name": "python3"
  },
  "language_info": {
   "codemirror_mode": {
    "name": "ipython",
    "version": 3
   },
   "file_extension": ".py",
   "mimetype": "text/x-python",
   "name": "python",
   "nbconvert_exporter": "python",
   "pygments_lexer": "ipython3",
   "version": "3.7.3"
  }
 },
 "nbformat": 4,
 "nbformat_minor": 4
}
