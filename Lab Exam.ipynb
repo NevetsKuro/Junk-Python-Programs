{
 "cells": [
  {
   "cell_type": "code",
   "execution_count": 7,
   "metadata": {},
   "outputs": [
    {
     "name": "stderr",
     "output_type": "stream",
     "text": [
      "(Locker1  ) Starting\n",
      "(Worker1  ) Starting\n",
      "(Locker1  ) Locking\n",
      "(Locker1  ) Not locking\n",
      "(Locker1  ) Locking\n",
      "(Worker1  ) Trying to acquire\n",
      "(Worker1  ) Try #1 : Not acquiredFood Processor 1\n",
      "(Locker1  ) Not locking\n",
      "(Locker1  ) Not locking\n",
      "(Worker1  ) Trying to acquire\n",
      "(Worker1  ) Try #2 : Acquired Food Processor 1\n",
      "(Locker1  ) Locking\n"
     ]
    },
    {
     "name": "stdout",
     "output_type": "stream",
     "text": [
      "Processing Food Processor 1\n"
     ]
    },
    {
     "name": "stderr",
     "output_type": "stream",
     "text": [
      "(Locker1  ) Not locking\n",
      "(Worker1  ) Trying to acquire\n",
      "(Worker1  ) Try #3 : Acquired Food Processor 2\n",
      "(Locker1  ) Locking\n"
     ]
    },
    {
     "name": "stdout",
     "output_type": "stream",
     "text": [
      "Processing Food Processor 2\n"
     ]
    },
    {
     "name": "stderr",
     "output_type": "stream",
     "text": [
      "(Locker1  ) Locking\n",
      "(Worker1  ) Trying to acquire\n",
      "(Worker1  ) Try #4 : Not acquiredFood Processor 3\n",
      "(Locker1  ) Not locking\n",
      "(Locker1  ) Locking\n",
      "(Worker1  ) Trying to acquire\n",
      "(Worker1  ) Try #5 : Not acquiredFood Processor 3\n",
      "(Locker1  ) Not locking\n",
      "(Locker1  ) Not locking\n",
      "(Worker1  ) Trying to acquire\n",
      "(Worker1  ) Try #6 : Acquired Food Processor 3\n",
      "(Worker1  ) Done after 6 tries\n",
      "(Locker1  ) Locking\n"
     ]
    },
    {
     "name": "stdout",
     "output_type": "stream",
     "text": [
      "Processing Food Processor 3\n"
     ]
    },
    {
     "name": "stderr",
     "output_type": "stream",
     "text": [
      "(Locker1  ) Not locking\n",
      "(Locker1  ) Locking\n",
      "(Locker1  ) Not locking\n",
      "(Locker1  ) Not locking\n",
      "(Locker1  ) Locking\n",
      "(Locker1  ) Locking\n",
      "(Locker1  ) Not locking\n",
      "(Locker1  ) Not locking\n",
      "(Locker1  ) Locking\n",
      "(Locker1  ) Locking\n",
      "(Locker1  ) Not locking\n",
      "(Locker1  ) Not locking\n",
      "(Locker1  ) Locking\n",
      "(Locker1  ) Locking\n",
      "(Locker1  ) Not locking\n",
      "(Locker1  ) Not locking\n",
      "(Locker1  ) Locking\n",
      "(Locker1  ) Locking\n",
      "(Locker1  ) Not locking\n",
      "(Locker1  ) Not locking\n"
     ]
    }
   ],
   "source": [
    "import threading\n",
    "import time\n",
    "import logging\n",
    "\n",
    "logging.basicConfig(level=logging.DEBUG,\n",
    "                    format='(%(threadName)-9s) %(message)s',)\n",
    "          \n",
    "num_acquires = 0          \n",
    "\n",
    "def locker1(lock):\n",
    "    logging.debug('Starting')\n",
    "    while num_acquires < 3:\n",
    "        lock.acquire()\n",
    "        try:\n",
    "            logging.debug('Locking')\n",
    "            time.sleep(1.0)\n",
    "        finally:\n",
    "            logging.debug('Not locking')\n",
    "            lock.release()\n",
    "        time.sleep(1.0)\n",
    "    return\n",
    "            \n",
    "def resources(num):\n",
    "    if(num == 0):\n",
    "        return str(\"Food Processor 1\")\n",
    "    elif(num == 1):\n",
    "        return str(\"Food Processor 2\")\n",
    "    else:\n",
    "        return str('Food Processor 3')\n",
    "    \n",
    "def worker1(lock):\n",
    "    logging.debug('Starting')\n",
    "    num_tries = 0\n",
    "    global num_acquires  \n",
    "    while num_acquires < 3:\n",
    "        time.sleep(0.5)\n",
    "        logging.debug('Trying to acquire')\n",
    "        acquired = lock.acquire(0)\n",
    "        try:\n",
    "            num_tries += 1\n",
    "            x = resources(num_acquires)\n",
    "            if acquired:\n",
    "                logging.debug('Try #%d : Acquired '+ x , num_tries)\n",
    "                print(\"Processing \"+x)\n",
    "                num_acquires += 1\n",
    "            else:\n",
    "                logging.debug('Try #%d : Not acquired'+ x, num_tries)\n",
    "        finally:\n",
    "            if acquired:\n",
    "                lock.release()\n",
    "    logging.debug('Done after %d tries', num_tries)\n",
    "\n",
    "if __name__ == '__main__':\n",
    "    lock = threading.Lock()\n",
    "\n",
    "    locker = threading.Thread(target=locker1, args=(lock,), name='Locker1')\n",
    "    locker.setDaemon(True)\n",
    "    locker.start()\n",
    "\n",
    "    worker = threading.Thread(target=worker1, args=(lock,), name='Worker1')\n",
    "    worker.start()"
   ]
  },
  {
   "cell_type": "code",
   "execution_count": null,
   "metadata": {},
   "outputs": [],
   "source": []
  }
 ],
 "metadata": {
  "kernelspec": {
   "display_name": "Python 3",
   "language": "python",
   "name": "python3"
  }
 },
 "nbformat": 4,
 "nbformat_minor": 4
}
